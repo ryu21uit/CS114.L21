{
  "nbformat": 4,
  "nbformat_minor": 0,
  "metadata": {
    "colab": {
      "name": "Linear.ipynb",
      "provenance": [],
      "mount_file_id": "1TGB_MFsyeNOeD5XPy2eGRQMQ-Hp3KoR7",
      "authorship_tag": "ABX9TyOFUfQWzKn3dAvjApWZXUoV",
      "include_colab_link": true
    },
    "kernelspec": {
      "name": "python3",
      "display_name": "Python 3"
    },
    "language_info": {
      "name": "python"
    }
  },
  "cells": [
    {
      "cell_type": "markdown",
      "metadata": {
        "id": "view-in-github",
        "colab_type": "text"
      },
      "source": [
        "<a href=\"https://colab.research.google.com/github/trongtn2110/CS114.L21/blob/master/Colab/Linear.ipynb\" target=\"_parent\"><img src=\"https://colab.research.google.com/assets/colab-badge.svg\" alt=\"Open In Colab\"/></a>"
      ]
    },
    {
      "cell_type": "markdown",
      "metadata": {
        "id": "y7NANIz2PVos"
      },
      "source": [
        "#**Cung cấp các thư viện cần thiết**"
      ]
    },
    {
      "cell_type": "code",
      "metadata": {
        "id": "rsp4pKxjVVLd"
      },
      "source": [
        "import numpy as np\n",
        "import pandas as pd\n",
        "from google.colab import drive\n",
        "from sklearn import  linear_model\n",
        "from sklearn.linear_model import Ridge\n",
        "from sklearn.preprocessing import StandardScaler\n",
        "from sklearn.metrics import mean_squared_error\n",
        "import matplotlib.pyplot as plt"
      ],
      "execution_count": 145,
      "outputs": []
    },
    {
      "cell_type": "markdown",
      "metadata": {
        "id": "igqZ869WPhs8"
      },
      "source": [
        "#**Lấy data train và data test**"
      ]
    },
    {
      "cell_type": "code",
      "metadata": {
        "id": "cgE_IEvkFt9N"
      },
      "source": [
        "colnames = ['Size', 'Time']\n",
        "dtrain = pd.read_csv(\"http://cs.uit.edu.vn/data2.txt\",names=colnames)\n",
        "dtest = pd.read_csv(\"http://cs.uit.edu.vn/data3.txt\",names=colnames)"
      ],
      "execution_count": 146,
      "outputs": []
    },
    {
      "cell_type": "markdown",
      "metadata": {
        "id": "H_B_KIXMPqI0"
      },
      "source": [
        "#**Xử lý data**"
      ]
    },
    {
      "cell_type": "code",
      "metadata": {
        "id": "lDf63r1CGMNu"
      },
      "source": [
        "# Dữ liệu train từ data1\n",
        "x_train = np.array(dtrain['Size']).reshape(-1,1)\n",
        "y_train = np.array(dtrain['Time'])\n",
        "\n",
        "# Dữ liệu test data3\n",
        "x_test = np.array(dtest['Size']).reshape(-1, 1)\n",
        "y_test = np.array(dtest['Time'])"
      ],
      "execution_count": 147,
      "outputs": []
    },
    {
      "cell_type": "markdown",
      "metadata": {
        "id": "uuP36JYtP1Ex"
      },
      "source": [
        "#**Sử dụng phương phám Feature Normalize và Regularization**\n"
      ]
    },
    {
      "cell_type": "code",
      "metadata": {
        "id": "EwAL-rzKQIxy"
      },
      "source": [
        "scale = StandardScaler()\n",
        "X_s_train = scale.fit_transform(x_train)\n",
        "X_s_test = scale.transform(x_test)"
      ],
      "execution_count": 135,
      "outputs": []
    },
    {
      "cell_type": "code",
      "metadata": {
        "colab": {
          "base_uri": "https://localhost:8080/"
        },
        "id": "avdLsoUFTvv7",
        "outputId": "61ddec67-007b-44d9-c4c4-fab7bc18a2e7"
      },
      "source": [
        "model = linear_model.Ridge(alpha=-4000)\n",
        "model.fit(X_s_train,y_train)\n",
        "y_pred = model.predict(X_s_test)\n",
        "print('mean square error: ', mean_squared_error(y_test,y_pred))"
      ],
      "execution_count": 148,
      "outputs": [
        {
          "output_type": "stream",
          "text": [
            "mean square error:  0.0037502328399061286\n"
          ],
          "name": "stdout"
        }
      ]
    },
    {
      "cell_type": "markdown",
      "metadata": {
        "id": "9Wne5GvfZH9e"
      },
      "source": [
        "#**Đồ thị**"
      ]
    },
    {
      "cell_type": "code",
      "metadata": {
        "colab": {
          "base_uri": "https://localhost:8080/",
          "height": 265
        },
        "id": "hipdwrgBYVhO",
        "outputId": "9bf142bc-5f73-4ee1-eac4-5225c6a3a8d4"
      },
      "source": [
        "\n",
        "plt.plot(X_s_test, y_test,'r.')\n",
        "plt.plot(X_s_test,y_pred, color='blue', linewidth=5)\n",
        "\n",
        "plt.show()"
      ],
      "execution_count": 163,
      "outputs": [
        {
          "output_type": "display_data",
          "data": {
            "image/png": "[encoded data removed]",
            "text/plain": [
              "<Figure size 432x288 with 1 Axes>"
            ]
          },
          "metadata": {
            "tags": [],
            "needs_background": "light"
          }
        }
      ]
    }
  ]
}