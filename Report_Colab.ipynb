{
  "nbformat": 4,
  "nbformat_minor": 0,
  "metadata": {
    "colab": {
      "name": "Report.ipynb",
      "private_outputs": true,
      "provenance": [],
      "collapsed_sections": [],
      "include_colab_link": true
    },
    "kernelspec": {
      "name": "python3",
      "display_name": "Python 3"
    },
    "language_info": {
      "name": "python"
    }
  },
  "cells": [
    {
      "cell_type": "markdown",
      "metadata": {
        "id": "view-in-github",
        "colab_type": "text"
      },
      "source": [
        "<a href=\"https://colab.research.google.com/github/trongtn2110/CS114.L21/blob/master/Report_Colab.ipynb\" target=\"_parent\"><img src=\"https://colab.research.google.com/assets/colab-badge.svg\" alt=\"Open In Colab\"/></a>"
      ]
    },
    {
      "cell_type": "markdown",
      "metadata": {
        "id": "4V5YRDUVcPJL"
      },
      "source": [
        "#**BÁO CÁO:** sklearn hand-written digits recognition\n",
        "---\n",
        "##**THÀNH VIÊN:**\n",
        "1. **Nguyễn Thành Trọng** - *19522410*\n",
        "2. **Đào Văn Tài** - *19522148*\n",
        "3. **Ngô Gia Kiệt** - *19521725*\n",
        "---\n",
        "\n"
      ]
    },
    {
      "cell_type": "markdown",
      "metadata": {
        "id": "o1rRDNhyZYDr"
      },
      "source": [
        "#2. Yêu cầu đề bài:\n",
        "\n",
        "  1. Yêu cầu code:\n",
        "    * Tạo một notebook colab với các đoạn code và chú thích cần thiết để thực hiện công việc sau:\n",
        "    >Train model cho bài toán hand-written digits recognition theo example của sklearn: https://scikit-learn.org/stable/auto_examples/classification/plot_digits_classification.html#sphx-glr-auto-examples-classification-plot-digits-classification-py\n",
        "    >\n",
        "    >Truy cập webcam của máy tính từ colab.\n",
        "    Chụp ảnh một tờ giấy đang được giơ ra trước webcam\n",
        "    >\n",
        "    >Nhận dạng xem chữ số đang viết trên tờ giấy là số mấy.\n",
        "\n",
        "  2. Yêu cầu phân tích:\n",
        "    * Thông qua thực nghiệm chạy thử nhiều lần trả lời các câu hỏi sau\n",
        "    > \n",
        "    >Kết quả chạy thực tế với webcam của laptop và giấy viết tay của các bạn có tốt không?\n",
        "    >\n",
        "    >> * Kết quả chạy thực tế với webcam của laptop và giấy viết tay là chưa tốt.\n",
        "    > \n",
        "    >Ủa mà nhìn vào đâu để kết luận là tốt hay không?\n",
        "    >\n",
        "    >> * Dựa vào số nhóm em cho model dự đoán thì tỉ lệ sai còn cao.\n",
        "    >\n",
        "    >Nếu không tốt thì lý do tại sao?\n",
        "    >\n",
        "    >> * Do khâu tiền xử lí ảnh còn chưa tốt lắm.\n",
        "    >> * Do ảnh đầu vào có kích thước lớn (480x360 )mà kích thước dữ liệu training nhỏ hơn nhất nhiều (8x8) nên việc thay đổi kích thước ảnh làm mất mát dữ liệu.\n",
        "    >\n",
        "    >Nếu tốt thì tiếp theo có thể dùng model digits recognition này vào các bài toán phức tạp hơn như nhận dạng biển số nhà không?\n",
        "    >\n",
        "    >> * Theo nhóm em nghĩ nếu tốt thì chúng ta vẫn áp dụng vào các bài toán phức tạp hơn như bài nhận dạng biển số nhà vì lúc đó ta sẽ chia cắt các con số riêng biệt nhau rồi nhận dạng chúng và ghép lại đưa ra output, vì làm như vậy thì ta tránh được các trường hợp bị nhiễu bởi các chữ số gần nhau."
      ]
    },
    {
      "cell_type": "code",
      "metadata": {
        "id": "SNfsnZsZ5ZIQ"
      },
      "source": [
        "print(__doc__)\n",
        "\n",
        "# Author: Gael Varoquaux <gael dot varoquaux at normalesup dot org>\n",
        "# License: BSD 3 clause\n",
        "\n",
        "# Standard scientific Python imports\n",
        "import matplotlib.pyplot as plt\n",
        "\n",
        "# Import datasets, classifiers and performance metrics\n",
        "from sklearn import datasets, svm, metrics\n",
        "from sklearn.model_selection import train_test_split"
      ],
      "execution_count": null,
      "outputs": []
    },
    {
      "cell_type": "markdown",
      "metadata": {
        "id": "BeedT35Ty41N"
      },
      "source": [
        "Tập dữ liệu chữ số bao gồm hình ảnh 8x8 pixel của các chữ số."
      ]
    },
    {
      "cell_type": "code",
      "metadata": {
        "id": "YxdeEjFA5cyf"
      },
      "source": [
        "digits = datasets.load_digits()\n",
        "\n",
        "_, axes = plt.subplots(nrows=1, ncols=5, figsize=(10, 3))\n",
        "for ax, image, label in zip(axes, digits.images, digits.target):\n",
        "    ax.set_axis_off()\n",
        "    ax.imshow(image, cmap=plt.cm.gray_r, interpolation='nearest')\n",
        "    ax.set_title('Training: %i' % label)"
      ],
      "execution_count": null,
      "outputs": []
    },
    {
      "cell_type": "markdown",
      "metadata": {
        "id": "C3RJbnC_goll"
      },
      "source": [
        "#**QUÁ TRÌNH TRAINING:**\n",
        "---"
      ]
    },
    {
      "cell_type": "code",
      "metadata": {
        "id": "GkvJwlYF5gD-"
      },
      "source": [
        "n_samples = len(digits.images)\n",
        "data = digits.images.reshape((n_samples, -1))\n",
        "\n",
        "# Create a classifier: a support vector classifier\n",
        "clf = svm.SVC(gamma=0.001)\n",
        "\n",
        "# Split data into 50% train and 50% test subsets\n",
        "X_train, X_test, y_train, y_test = train_test_split(\n",
        "    data, digits.target, test_size=0.5, shuffle=False)\n",
        "\n",
        "# Learn the digits on the train subset\n",
        "clf.fit(X_train, y_train)\n",
        "predicted = clf.predict(X_train)"
      ],
      "execution_count": null,
      "outputs": []
    },
    {
      "cell_type": "code",
      "metadata": {
        "id": "U-7eNHX65hyA"
      },
      "source": [
        "_, axes = plt.subplots(nrows=1, ncols=4, figsize=(10, 3))\n",
        "for ax, image, prediction in zip(axes, X_train, predicted):\n",
        "    ax.set_axis_off()\n",
        "    image = image.reshape(8, 8)\n",
        "    ax.imshow(image, cmap=plt.cm.gray_r, interpolation='nearest')\n",
        "    ax.set_title(f'Prediction: {prediction}')"
      ],
      "execution_count": null,
      "outputs": []
    },
    {
      "cell_type": "markdown",
      "metadata": {
        "id": "t85fLPTBhSZx"
      },
      "source": [
        "#**LẤY ẢNH TỪ WEBCAM:**\n",
        "---"
      ]
    },
    {
      "cell_type": "code",
      "metadata": {
        "id": "SWBo5F1QzG9P"
      },
      "source": [
        "from IPython.display import display, Javascript\n",
        "from google.colab.output import eval_js\n",
        "from base64 import b64decode\n",
        "\n",
        "def take_photo(filename='photo.jpg', quality=0.8):\n",
        "  js = Javascript('''\n",
        "    async function takePhoto(quality) {\n",
        "      const div = document.createElement('div');\n",
        "      const capture = document.createElement('button');\n",
        "      capture.textContent = 'Capture';\n",
        "      div.appendChild(capture);\n",
        "\n",
        "      const video = document.createElement('video');\n",
        "      video.style.display = 'block';\n",
        "      const stream = await navigator.mediaDevices.getUserMedia({video: true});\n",
        "\n",
        "      document.body.appendChild(div);\n",
        "      div.appendChild(video);\n",
        "      video.srcObject = stream;\n",
        "      await video.play();\n",
        "\n",
        "      // Resize the output to fit the video element.\n",
        "      google.colab.output.setIframeHeight(document.documentElement.scrollHeight, true);\n",
        "\n",
        "      // Wait for Capture to be clicked.\n",
        "      await new Promise((resolve) => capture.onclick = resolve);\n",
        "\n",
        "      const canvas = document.createElement('canvas');\n",
        "      canvas.width = video.videoWidth;\n",
        "      canvas.height = video.videoHeight;\n",
        "      canvas.getContext('2d').drawImage(video, 0, 0);\n",
        "      stream.getVideoTracks()[0].stop();\n",
        "      div.remove();\n",
        "      return canvas.toDataURL('image/jpeg', quality);\n",
        "    }\n",
        "    ''')\n",
        "  display(js)\n",
        "  data = eval_js('takePhoto({})'.format(quality))\n",
        "  binary = b64decode(data.split(',')[1])\n",
        "  with open(filename, 'wb') as f:\n",
        "    f.write(binary)\n",
        "  return filename"
      ],
      "execution_count": null,
      "outputs": []
    },
    {
      "cell_type": "code",
      "metadata": {
        "id": "Q53UHblD_YYI"
      },
      "source": [
        "from IPython.display import Image\n",
        "try:\n",
        "  filename = take_photo()\n",
        "  print('Saved to {}'.format(filename))\n",
        "  \n",
        "  # Show the image which was just taken.\n",
        "  display(Image(filename))\n",
        "except Exception as err:\n",
        "  # Errors will be thrown if the user does not have a webcam or if they do not\n",
        "  # grant the page permission to access it.\n",
        "  print(str(err))"
      ],
      "execution_count": null,
      "outputs": []
    },
    {
      "cell_type": "markdown",
      "metadata": {
        "id": "WWVjIXkqhfYD"
      },
      "source": [
        "#**NHẬN DIỆN SỐ TỪ ẢNH CỦA WEBCAM TRÊN:**\n",
        "---"
      ]
    },
    {
      "cell_type": "code",
      "metadata": {
        "id": "SYitB14u-5Kz"
      },
      "source": [
        "import cv2\n",
        "import numpy as npgray = cv2.imread('photo.jpg',0)\n",
        "gray = cv2.resize(gray,(8,8))\n",
        "gray= gray/16\n",
        "gray = gray.reshape((1,-1))\n",
        "pre = clf.predict(gray)\n",
        "_, axes = plt.subplots(nrows=1, ncols=2, figsize=(10, 3))\n",
        "for ax, image, prediction in zip(axes, gray, pre):\n",
        "    ax.set_axis_off()\n",
        "    image = image.reshape(8, 8)\n",
        "    ax.imshow(image, cmap=plt.cm.gray_r, interpolation='nearest')\n",
        "    ax.set_title(f'Prediction: {prediction}')"
      ],
      "execution_count": null,
      "outputs": []
    }
  ]
}