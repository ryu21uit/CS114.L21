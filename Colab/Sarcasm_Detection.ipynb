{
  "nbformat": 4,
  "nbformat_minor": 0,
  "metadata": {
    "colab": {
      "name": "Sarcasm_Detection.ipynb",
      "provenance": [],
      "toc_visible": true,
      "authorship_tag": "ABX9TyO039uJTmQ73SYfms1QPsmD",
      "include_colab_link": true
    },
    "kernelspec": {
      "name": "python3",
      "display_name": "Python 3"
    },
    "language_info": {
      "name": "python"
    }
  },
  "cells": [
    {
      "cell_type": "markdown",
      "metadata": {
        "id": "view-in-github",
        "colab_type": "text"
      },
      "source": [
        "<a href=\"https://colab.research.google.com/github/trongtn2110/CS114.L21/blob/master/Colab/Sarcasm_Detection.ipynb\" target=\"_parent\"><img src=\"https://colab.research.google.com/assets/colab-badge.svg\" alt=\"Open In Colab\"/></a>"
      ]
    },
    {
      "cell_type": "markdown",
      "metadata": {
        "id": "So9wDMX6N8WH"
      },
      "source": [
        "#**CUNG CẤP CÁC THƯ VIỆN CẦN THIẾT**"
      ]
    },
    {
      "cell_type": "code",
      "metadata": {
        "id": "zKyelqX7f5Pb",
        "colab": {
          "base_uri": "https://localhost:8080/"
        },
        "outputId": "d241095e-96c6-4514-e35f-e80729988812"
      },
      "source": [
        "import numpy as np\n",
        "import pandas as pd\n",
        "import seaborn as sns\n",
        "import nltk\n",
        "nltk.download('stopwords')\n",
        "from nltk.corpus import stopwords\n",
        "from nltk.tokenize import word_tokenize,sent_tokenize\n",
        "from bs4 import BeautifulSoup\n",
        "from keras.preprocessing import text, sequence\n",
        "from sklearn.model_selection import train_test_split\n",
        "import string , re\n",
        "from string import punctuation\n",
        "import keras\n",
        "from keras.models import Sequential\n",
        "from keras.layers import Dense,Embedding,LSTM,Dropout,Bidirectional,GRU\n"
      ],
      "execution_count": 37,
      "outputs": [
        {
          "output_type": "stream",
          "text": [
            "[nltk_data] Downloading package stopwords to /root/nltk_data...\n",
            "[nltk_data]   Package stopwords is already up-to-date!\n"
          ],
          "name": "stdout"
        }
      ]
    },
    {
      "cell_type": "markdown",
      "metadata": {
        "id": "v7rs1UVPOKSk"
      },
      "source": [
        "#**LẤY DỮ LIỆU ĐÃ THU THẬP**"
      ]
    },
    {
      "cell_type": "code",
      "metadata": {
        "id": "Ex6R2wLog4Ae",
        "colab": {
          "base_uri": "https://localhost:8080/",
          "height": 204
        },
        "outputId": "5ddd7922-045a-43d8-8d7c-c844fef77b97"
      },
      "source": [
        "df = pd.read_json('https://raw.githubusercontent.com/trongtn2110/CS114.L21/master/Colab/merged_new_42.json',orient='records')\n",
        "df.head()"
      ],
      "execution_count": 38,
      "outputs": [
        {
          "output_type": "execute_result",
          "data": {
            "text/html": [
              "<div>\n",
              "<style scoped>\n",
              "    .dataframe tbody tr th:only-of-type {\n",
              "        vertical-align: middle;\n",
              "    }\n",
              "\n",
              "    .dataframe tbody tr th {\n",
              "        vertical-align: top;\n",
              "    }\n",
              "\n",
              "    .dataframe thead th {\n",
              "        text-align: right;\n",
              "    }\n",
              "</style>\n",
              "<table border=\"1\" class=\"dataframe\">\n",
              "  <thead>\n",
              "    <tr style=\"text-align: right;\">\n",
              "      <th></th>\n",
              "      <th>headline</th>\n",
              "      <th>is_sarcastic</th>\n",
              "    </tr>\n",
              "  </thead>\n",
              "  <tbody>\n",
              "    <tr>\n",
              "      <th>0</th>\n",
              "      <td>Ed Anger Archives</td>\n",
              "      <td>1</td>\n",
              "    </tr>\n",
              "    <tr>\n",
              "      <th>1</th>\n",
              "      <td>NewsMax TV Host Thinks Jussie Smollett Got Off...</td>\n",
              "      <td>0</td>\n",
              "    </tr>\n",
              "    <tr>\n",
              "      <th>2</th>\n",
              "      <td>Punk Spirit Asks Ouija Board Players If It Can...</td>\n",
              "      <td>1</td>\n",
              "    </tr>\n",
              "    <tr>\n",
              "      <th>3</th>\n",
              "      <td>Here Are Some Weird Top-Selling Amazon Products</td>\n",
              "      <td>0</td>\n",
              "    </tr>\n",
              "    <tr>\n",
              "      <th>4</th>\n",
              "      <td>Big Oil Says You’re Safe From These Toxic Clou...</td>\n",
              "      <td>0</td>\n",
              "    </tr>\n",
              "  </tbody>\n",
              "</table>\n",
              "</div>"
            ],
            "text/plain": [
              "                                            headline  is_sarcastic\n",
              "0                                  Ed Anger Archives             1\n",
              "1  NewsMax TV Host Thinks Jussie Smollett Got Off...             0\n",
              "2  Punk Spirit Asks Ouija Board Players If It Can...             1\n",
              "3    Here Are Some Weird Top-Selling Amazon Products             0\n",
              "4  Big Oil Says You’re Safe From These Toxic Clou...             0"
            ]
          },
          "metadata": {
            "tags": []
          },
          "execution_count": 38
        }
      ]
    },
    {
      "cell_type": "markdown",
      "metadata": {
        "id": "7e8SX6WhORDg"
      },
      "source": [
        "#**KHÁM PHÁ DỮ LIỆU**"
      ]
    },
    {
      "cell_type": "code",
      "metadata": {
        "id": "GfmliwNPnItP",
        "colab": {
          "base_uri": "https://localhost:8080/"
        },
        "outputId": "048ef7e8-d23f-4ddf-d426-60d7e3b040e5"
      },
      "source": [
        "df.isna().sum() # Kiểm tra NaN"
      ],
      "execution_count": 39,
      "outputs": [
        {
          "output_type": "execute_result",
          "data": {
            "text/plain": [
              "headline        0\n",
              "is_sarcastic    0\n",
              "dtype: int64"
            ]
          },
          "metadata": {
            "tags": []
          },
          "execution_count": 39
        }
      ]
    },
    {
      "cell_type": "code",
      "metadata": {
        "id": "ibuZCEHHnMZF",
        "colab": {
          "base_uri": "https://localhost:8080/",
          "height": 351
        },
        "outputId": "8f1942e4-4b6e-4c48-e5e8-979876cc6eee"
      },
      "source": [
        "sns.set_style(\"dark\")\n",
        "sns.countplot(df.is_sarcastic)"
      ],
      "execution_count": 40,
      "outputs": [
        {
          "output_type": "stream",
          "text": [
            "/usr/local/lib/python3.7/dist-packages/seaborn/_decorators.py:43: FutureWarning: Pass the following variable as a keyword arg: x. From version 0.12, the only valid positional argument will be `data`, and passing other arguments without an explicit keyword will result in an error or misinterpretation.\n",
            "  FutureWarning\n"
          ],
          "name": "stderr"
        },
        {
          "output_type": "execute_result",
          "data": {
            "text/plain": [
              "<matplotlib.axes._subplots.AxesSubplot at 0x7f26f05c70d0>"
            ]
          },
          "metadata": {
            "tags": []
          },
          "execution_count": 40
        },
        {
          "output_type": "display_data",
          "data": {
            "image/png": "[encoded data removed]",
            "text/plain": [
              "<Figure size 432x288 with 1 Axes>"
            ]
          },
          "metadata": {
            "tags": []
          }
        }
      ]
    },
    {
      "cell_type": "markdown",
      "metadata": {
        "id": "WyM0l1XxWtE7"
      },
      "source": [
        "#**XỬ LÝ DATA**"
      ]
    },
    {
      "cell_type": "markdown",
      "metadata": {
        "id": "gRXaSNzAWzsp"
      },
      "source": [
        "##**LOẠI BỎ CÁC STOPWORDS**\n",
        "\n",
        "\n",
        "> Stopwords là những từ tiếng Anh không bổ sung nhiều ý nghĩa cho một câu. Chúng có thể được bỏ qua một cách an toàn mà không làm mất đi ý nghĩa của câu. Ví dụ, những từ như, anh ấy, có, vv Những từ như vậy đã được ghi lại điều này trong ngữ liệu có tên là ngữ liệu.\n"
      ]
    },
    {
      "cell_type": "code",
      "metadata": {
        "id": "mGGxX4H7rxWf"
      },
      "source": [
        "stop = set(stopwords.words('english'))\n",
        "punctuation = list(string.punctuation)\n",
        "stop.update(punctuation)"
      ],
      "execution_count": 41,
      "outputs": []
    },
    {
      "cell_type": "markdown",
      "metadata": {
        "id": "vsNPFsyRXK6q"
      },
      "source": [
        "##**XÓA CÁC KÍ TỰ KHÔNG THỂ XỬ LÝ**"
      ]
    },
    {
      "cell_type": "code",
      "metadata": {
        "id": "8sreqP0ir00t"
      },
      "source": [
        "def strip_html(text):\n",
        "    soup = BeautifulSoup(text, \"html.parser\")\n",
        "    return soup.get_text()\n",
        "\n",
        "#Xóa các dấu ngoặc\n",
        "def remove_between_square_brackets(text):\n",
        "    return re.sub('\\[[^]]*\\]', '', text)\n",
        "# Xóa URL's\n",
        "def remove_between_square_brackets(text):\n",
        "    return re.sub(r'http\\S+', '', text)\n",
        "#Xóa các stopwords\n",
        "def remove_stopwords(text):\n",
        "    final_text = []\n",
        "    for i in text.split():\n",
        "        if i.strip().lower() not in stop:\n",
        "            final_text.append(i.strip())\n",
        "    return \" \".join(final_text)\n",
        "def denoise_text(text):\n",
        "    text = text.lower()\n",
        "    text = strip_html(text)\n",
        "    text = remove_between_square_brackets(text)\n",
        "    text = remove_stopwords(text)\n",
        "    return text\n",
        "df['headline']=df['headline'].apply(denoise_text)"
      ],
      "execution_count": 43,
      "outputs": []
    },
    {
      "cell_type": "markdown",
      "metadata": {
        "id": "E_1sdT_FXg0L"
      },
      "source": [
        "##**CHUYỂN ĐỔI DATA CHO PHÙ HỢP VỚI MODEL WORD2VEC**"
      ]
    },
    {
      "cell_type": "code",
      "metadata": {
        "id": "SAYh8eKisS4H",
        "colab": {
          "base_uri": "https://localhost:8080/"
        },
        "outputId": "ce0ca4f6-fd31-4cc1-b372-c8f37e4bc541"
      },
      "source": [
        "words = []\n",
        "for i in df.headline.values:\n",
        "    words.append(i.split())\n",
        "words[:5]"
      ],
      "execution_count": 44,
      "outputs": [
        {
          "output_type": "execute_result",
          "data": {
            "text/plain": [
              "[['ed', 'anger', 'archives'],\n",
              " ['newsmax',\n",
              "  'tv',\n",
              "  'host',\n",
              "  'thinks',\n",
              "  'jussie',\n",
              "  'smollett',\n",
              "  'got',\n",
              "  'easier',\n",
              "  'roseanne',\n",
              "  'barr'],\n",
              " ['punk', 'spirit', 'asks', 'ouija', 'board', 'players', 'borrow', 'amp'],\n",
              " ['weird', 'top-selling', 'amazon', 'products'],\n",
              " ['big', 'oil', 'says', 'you’re', 'safe', 'toxic', 'clouds.', 'you’re']]"
            ]
          },
          "metadata": {
            "tags": []
          },
          "execution_count": 44
        }
      ]
    },
    {
      "cell_type": "code",
      "metadata": {
        "id": "fvCaKj24sWOl"
      },
      "source": [
        "import gensim\n",
        "EMBEDDING_DIM = 200\n",
        "#Tạo model w2v\n",
        "w2v_model = gensim.models.Word2Vec(sentences = words , size=EMBEDDING_DIM , min_count = 1)"
      ],
      "execution_count": 45,
      "outputs": []
    },
    {
      "cell_type": "markdown",
      "metadata": {
        "id": "PQMGyNc5cMqs"
      },
      "source": [
        "##**MÃ HÓA DATA**"
      ]
    },
    {
      "cell_type": "code",
      "metadata": {
        "id": "LmnKoQ5tsgAf"
      },
      "source": [
        "tokenizer = text.Tokenizer()\n",
        "tokenizer.fit_on_texts(words)\n",
        "tokenized_train = tokenizer.texts_to_sequences(words)\n",
        "x = sequence.pad_sequences(tokenized_train, maxlen = 20)"
      ],
      "execution_count": 46,
      "outputs": []
    },
    {
      "cell_type": "code",
      "metadata": {
        "id": "Q-tRiELnLXEo"
      },
      "source": [
        "# print(tokenizer.word_counts)\n",
        "# print(tokenizer.document_count)\n",
        "# print(tokenizer.word_index)\n",
        "# print(tokenizer.word_docs)"
      ],
      "execution_count": null,
      "outputs": []
    },
    {
      "cell_type": "code",
      "metadata": {
        "id": "JBV4ilYDsigG"
      },
      "source": [
        "#Cộng 1 vì dành cho các từ không biết, vector này sẽ toàn 0\n",
        "vocab_size = len(tokenizer.word_index) + 1"
      ],
      "execution_count": 47,
      "outputs": []
    },
    {
      "cell_type": "code",
      "metadata": {
        "id": "_h4-T9UDskkl"
      },
      "source": [
        "# Function to create weight matrix from word2vec gensim model\n",
        "def get_weight_matrix(model, vocab):\n",
        "    # total vocabulary size plus 0 for unknown words\n",
        "    vocab_size = len(vocab) + 1\n",
        "    weight_matrix = np.zeros((vocab_size, EMBEDDING_DIM))\n",
        "    for word, i in vocab.items():\n",
        "        weight_matrix[i] = model[word]\n",
        "    return weight_matrix"
      ],
      "execution_count": 48,
      "outputs": []
    },
    {
      "cell_type": "code",
      "metadata": {
        "id": "i-YLT7C_smVo",
        "colab": {
          "base_uri": "https://localhost:8080/"
        },
        "outputId": "12d6103d-6bfb-4d34-9763-fd5511193865"
      },
      "source": [
        "embedding_vectors = get_weight_matrix(w2v_model, tokenizer.word_index)"
      ],
      "execution_count": 49,
      "outputs": [
        {
          "output_type": "stream",
          "text": [
            "/usr/local/lib/python3.7/dist-packages/ipykernel_launcher.py:7: DeprecationWarning: Call to deprecated `__getitem__` (Method will be removed in 4.0.0, use self.wv.__getitem__() instead).\n",
            "  import sys\n"
          ],
          "name": "stderr"
        }
      ]
    },
    {
      "cell_type": "markdown",
      "metadata": {
        "id": "GXOZxXd8N7FQ"
      },
      "source": [
        "#**TRAIN MODEL**"
      ]
    },
    {
      "cell_type": "code",
      "metadata": {
        "id": "S11c78qdsoHw",
        "colab": {
          "base_uri": "https://localhost:8080/"
        },
        "outputId": "4362abc1-a86f-4360-8695-0e8f0f36586e"
      },
      "source": [
        "model = Sequential()\n",
        "model.add(Embedding(vocab_size, output_dim=EMBEDDING_DIM, weights=[embedding_vectors], input_length=20, trainable=True))\n",
        "#LSTM\n",
        "model.add(Bidirectional(LSTM(units=128 , recurrent_dropout = 0.3 , dropout = 0.3,return_sequences = True)))\n",
        "model.add(Bidirectional(GRU(units=32 , recurrent_dropout = 0.1 , dropout = 0.1)))\n",
        "model.add(Dense(1, activation='sigmoid'))\n",
        "model.compile(optimizer=keras.optimizers.Adam(lr = 0.01), loss='binary_crossentropy', metrics=['acc'])\n",
        "\n",
        "del embedding_vectors"
      ],
      "execution_count": 50,
      "outputs": [
        {
          "output_type": "stream",
          "text": [
            "/usr/local/lib/python3.7/dist-packages/tensorflow/python/keras/optimizer_v2/optimizer_v2.py:375: UserWarning: The `lr` argument is deprecated, use `learning_rate` instead.\n",
            "  \"The `lr` argument is deprecated, use `learning_rate` instead.\")\n"
          ],
          "name": "stderr"
        }
      ]
    },
    {
      "cell_type": "code",
      "metadata": {
        "id": "AiuhES11sqNe",
        "colab": {
          "base_uri": "https://localhost:8080/"
        },
        "outputId": "b52e98c4-c9b8-4c02-bb0d-43ff02954f5d"
      },
      "source": [
        "model.summary()"
      ],
      "execution_count": 51,
      "outputs": [
        {
          "output_type": "stream",
          "text": [
            "Model: \"sequential_1\"\n",
            "_________________________________________________________________\n",
            "Layer (type)                 Output Shape              Param #   \n",
            "=================================================================\n",
            "embedding_1 (Embedding)      (None, 20, 200)           13951600  \n",
            "_________________________________________________________________\n",
            "bidirectional_2 (Bidirection (None, 20, 256)           336896    \n",
            "_________________________________________________________________\n",
            "bidirectional_3 (Bidirection (None, 64)                55680     \n",
            "_________________________________________________________________\n",
            "dense_1 (Dense)              (None, 1)                 65        \n",
            "=================================================================\n",
            "Total params: 14,344,241\n",
            "Trainable params: 14,344,241\n",
            "Non-trainable params: 0\n",
            "_________________________________________________________________\n"
          ],
          "name": "stdout"
        }
      ]
    },
    {
      "cell_type": "code",
      "metadata": {
        "id": "-Ln74B_tsr_t"
      },
      "source": [
        "x_train, x_test, y_train, y_test = train_test_split(x, df.is_sarcastic , test_size = 0.3 , random_state = 0) "
      ],
      "execution_count": 32,
      "outputs": []
    },
    {
      "cell_type": "code",
      "metadata": {
        "id": "JdJyK2zRst7k",
        "colab": {
          "base_uri": "https://localhost:8080/"
        },
        "outputId": "35799392-9ae7-48fa-b6ce-2ba173343478"
      },
      "source": [
        "history = model.fit(x_train, y_train, batch_size = 128 , validation_data = (x_test,y_test) , epochs = 3)"
      ],
      "execution_count": 33,
      "outputs": [
        {
          "output_type": "stream",
          "text": [
            "Epoch 1/3\n",
            "368/368 [==============================] - 235s 637ms/step - loss: 0.0038 - acc: 0.9987 - val_loss: 0.2846 - val_acc: 0.9506\n",
            "Epoch 2/3\n",
            "368/368 [==============================] - 234s 637ms/step - loss: 0.0025 - acc: 0.9991 - val_loss: 0.3565 - val_acc: 0.9486\n",
            "Epoch 3/3\n",
            "368/368 [==============================] - 234s 637ms/step - loss: 0.0027 - acc: 0.9990 - val_loss: 0.3448 - val_acc: 0.9472\n"
          ],
          "name": "stdout"
        }
      ]
    },
    {
      "cell_type": "code",
      "metadata": {
        "id": "b4BDJVg8swr0",
        "colab": {
          "base_uri": "https://localhost:8080/"
        },
        "outputId": "9710ebf1-b098-44ec-99e7-6520cc6c758a"
      },
      "source": [
        "print(\"Accuracy of the model on Training Data is - \" , model.evaluate(x_train,y_train)[1]*100)\n",
        "print(\"Accuracy of the model on Testing Data is - \" , model.evaluate(x_test,y_test)[1]*100)"
      ],
      "execution_count": 34,
      "outputs": [
        {
          "output_type": "stream",
          "text": [
            "1470/1470 [==============================] - 39s 27ms/step - loss: 6.2792e-04 - acc: 0.9998\n",
            "Accuracy of the model on Training Data is -  99.97660517692566\n",
            "630/630 [==============================] - 17s 27ms/step - loss: 0.3448 - acc: 0.9472\n",
            "Accuracy of the model on Testing Data is -  94.71569061279297\n"
          ],
          "name": "stdout"
        }
      ]
    },
    {
      "cell_type": "markdown",
      "metadata": {
        "id": "HQgbxLSfY4WO"
      },
      "source": [
        "#**NHẬN XÉT**\n",
        "- Thấy kết quả accuracy score trên Testing Data là 94.7 là khá cao so với accuracy score trên Training Data là 99.9"
      ]
    }
  ]
}